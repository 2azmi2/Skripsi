{
 "cells": [
  {
   "cell_type": "code",
   "execution_count": 4,
   "metadata": {},
   "outputs": [
    {
     "name": "stdout",
     "output_type": "stream",
     "text": [
      "Accuracy: 0.9879275653923542\n",
      "              precision    recall  f1-score   support\n",
      "\n",
      "           0       0.98      1.00      0.99       250\n",
      "           1       1.00      0.98      0.99       247\n",
      "\n",
      "    accuracy                           0.99       497\n",
      "   macro avg       0.99      0.99      0.99       497\n",
      "weighted avg       0.99      0.99      0.99       497\n",
      "\n"
     ]
    }
   ],
   "source": [
    "import os\n",
    "import numpy as np\n",
    "import pandas as pd\n",
    "from sklearn.preprocessing import StandardScaler\n",
    "from sklearn.svm import SVC\n",
    "from sklearn.metrics import accuracy_score, classification_report\n",
    "import librosa\n",
    "\n",
    "# Function to extract features from sound files\n",
    "def extract_features(file_path, sample_rate=16000, n_mfcc=13):\n",
    "    audio, sr = librosa.load(file_path, sr=sample_rate, res_type='kaiser_fast')\n",
    "    mfccs = librosa.feature.mfcc(y=audio, sr=sr, n_mfcc=n_mfcc)\n",
    "    rmse = librosa.feature.rms(y=audio)\n",
    "    spectral_centroid = librosa.feature.spectral_centroid(y=audio, sr=sr)\n",
    "\n",
    "    # Calculate mean values\n",
    "    mean_mfcc = np.mean(mfccs, axis=1)\n",
    "    mean_rmse = np.mean(rmse)\n",
    "    mean_centroid = np.mean(spectral_centroid)\n",
    "\n",
    "    return np.concatenate([mean_mfcc, [mean_rmse], [mean_centroid]])\n",
    "\n",
    "# Function to read and process sound data\n",
    "def read_and_process_sound_data(sound_dir, label_path):\n",
    "    labels_df = pd.read_csv(label_path)\n",
    "    features = []\n",
    "    labels = []\n",
    "\n",
    "    for filename in os.listdir(sound_dir):\n",
    "        if filename.endswith('.wav'):\n",
    "            sound_path = os.path.join(sound_dir, filename)\n",
    "            label_row = labels_df[labels_df['file'] == filename]\n",
    "\n",
    "            if not label_row.empty:\n",
    "                label = label_row.iloc[0]['Label']\n",
    "                feature = extract_features(sound_path)\n",
    "                features.append(feature)\n",
    "                labels.append(label)\n",
    "            else:\n",
    "                print(f\"Label not found for file: {filename}\")\n",
    "\n",
    "    return np.array(features), np.array(labels)\n",
    "\n",
    "# Path to data directories\n",
    "train_sound_dir = 'suara/data/sound/train/'\n",
    "train_label_path = 'suara/data/labels/train/feature_train.csv'\n",
    "val_sound_dir = 'suara/data/sound/val/'\n",
    "val_label_path = 'suara/data/labels/val/feature_val.csv'\n",
    "\n",
    "# Read and process sound data for training\n",
    "X_train, y_train = read_and_process_sound_data(train_sound_dir, train_label_path)\n",
    "\n",
    "# Read and process sound data for validation\n",
    "X_val, y_val = read_and_process_sound_data(val_sound_dir, val_label_path)\n",
    "\n",
    "# Standardize features\n",
    "scaler = StandardScaler()\n",
    "X_train_scaled = scaler.fit_transform(X_train)\n",
    "X_val_scaled = scaler.transform(X_val)\n",
    "\n",
    "# Define SVM model\n",
    "svm_model = SVC(kernel='linear', C=1)\n",
    "\n",
    "# Train the model\n",
    "svm_model.fit(X_train_scaled, y_train)\n",
    "\n",
    "# Make predictions on the validation set\n",
    "y_pred = svm_model.predict(X_val_scaled)\n",
    "\n",
    "# Evaluate the model\n",
    "accuracy = accuracy_score(y_val, y_pred)\n",
    "print(f\"Accuracy: {accuracy}\")\n",
    "print(classification_report(y_val, y_pred))\n"
   ]
  },
  {
   "cell_type": "code",
   "execution_count": 5,
   "metadata": {},
   "outputs": [
    {
     "data": {
      "text/plain": [
       "['suara_model_svm.pkl']"
      ]
     },
     "execution_count": 5,
     "metadata": {},
     "output_type": "execute_result"
    }
   ],
   "source": [
    "import joblib\n",
    "\n",
    "# Simpan model ke file\n",
    "model_filename = 'suara_model_svm.pkl'\n",
    "joblib.dump(svm_model, model_filename)\n"
   ]
  }
 ],
 "metadata": {
  "kernelspec": {
   "display_name": "base",
   "language": "python",
   "name": "python3"
  },
  "language_info": {
   "codemirror_mode": {
    "name": "ipython",
    "version": 3
   },
   "file_extension": ".py",
   "mimetype": "text/x-python",
   "name": "python",
   "nbconvert_exporter": "python",
   "pygments_lexer": "ipython3",
   "version": "3.8.8"
  }
 },
 "nbformat": 4,
 "nbformat_minor": 2
}
