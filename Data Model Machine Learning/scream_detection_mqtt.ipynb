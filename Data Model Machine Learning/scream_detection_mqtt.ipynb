{
 "cells": [
  {
   "cell_type": "code",
   "execution_count": 1,
   "metadata": {},
   "outputs": [
    {
     "name": "stderr",
     "output_type": "stream",
     "text": [
      "<ipython-input-1-df4656a0157c>:76: DeprecationWarning: Callback API version 1 is deprecated, update to latest version\n",
      "  client = mqtt.Client(mqtt.CallbackAPIVersion.VERSION1)\n"
     ]
    },
    {
     "name": "stdout",
     "output_type": "stream",
     "text": [
      "Connected with result code 0\n",
      "Received message: b'504,312,401,432,482,445,478,397,393,442,418,446,458,448,448,447,446,447,447,446,2'\n"
     ]
    },
    {
     "name": "stderr",
     "output_type": "stream",
     "text": [
      "d:\\Data\\Anaconda\\lib\\site-packages\\pywt\\_multilevel.py:43: UserWarning: Level value of 6 is too high: all coefficients will experience boundary effects.\n",
      "  warnings.warn(\n",
      "d:\\Data\\Anaconda\\lib\\site-packages\\librosa\\core\\spectrum.py:257: UserWarning: n_fft=2048 is too large for input signal of length=22\n",
      "  warnings.warn(\n"
     ]
    },
    {
     "name": "stdout",
     "output_type": "stream",
     "text": [
      "Sound Classification: Scream\n",
      "Received message: b'481,457,385,554,391,428,444,470,457,498,376,391,441,438,446,448,446,447,446,446,2'\n",
      "Sound Classification: Scream\n"
     ]
    },
    {
     "name": "stderr",
     "output_type": "stream",
     "text": [
      "d:\\Data\\Anaconda\\lib\\site-packages\\pywt\\_multilevel.py:43: UserWarning: Level value of 6 is too high: all coefficients will experience boundary effects.\n",
      "  warnings.warn(\n",
      "d:\\Data\\Anaconda\\lib\\site-packages\\librosa\\core\\spectrum.py:257: UserWarning: n_fft=2048 is too large for input signal of length=22\n",
      "  warnings.warn(\n"
     ]
    },
    {
     "name": "stdout",
     "output_type": "stream",
     "text": [
      "Received message: b'489,452,457,490,447,441,445,449,447,447,446,447,447,446,447,446,446,447,446,446,2'\n",
      "Sound Classification: Scream\n"
     ]
    },
    {
     "name": "stderr",
     "output_type": "stream",
     "text": [
      "d:\\Data\\Anaconda\\lib\\site-packages\\pywt\\_multilevel.py:43: UserWarning: Level value of 6 is too high: all coefficients will experience boundary effects.\n",
      "  warnings.warn(\n",
      "d:\\Data\\Anaconda\\lib\\site-packages\\librosa\\core\\spectrum.py:257: UserWarning: n_fft=2048 is too large for input signal of length=22\n",
      "  warnings.warn(\n"
     ]
    },
    {
     "name": "stdout",
     "output_type": "stream",
     "text": [
      "Received message: b'516,440,447,444,446,447,446,447,445,447,446,446,447,446,446,446,447,446,446,446,2'\n",
      "Sound Classification: Scream\n"
     ]
    },
    {
     "name": "stderr",
     "output_type": "stream",
     "text": [
      "d:\\Data\\Anaconda\\lib\\site-packages\\pywt\\_multilevel.py:43: UserWarning: Level value of 6 is too high: all coefficients will experience boundary effects.\n",
      "  warnings.warn(\n",
      "d:\\Data\\Anaconda\\lib\\site-packages\\librosa\\core\\spectrum.py:257: UserWarning: n_fft=2048 is too large for input signal of length=22\n",
      "  warnings.warn(\n"
     ]
    },
    {
     "name": "stdout",
     "output_type": "stream",
     "text": [
      "Received message: b'510,416,446,507,357,427,432,486,465,471,468,459,435,427,436,446,448,446,447,446,2'\n",
      "Sound Classification: Scream\n"
     ]
    },
    {
     "name": "stderr",
     "output_type": "stream",
     "text": [
      "d:\\Data\\Anaconda\\lib\\site-packages\\pywt\\_multilevel.py:43: UserWarning: Level value of 6 is too high: all coefficients will experience boundary effects.\n",
      "  warnings.warn(\n",
      "d:\\Data\\Anaconda\\lib\\site-packages\\librosa\\core\\spectrum.py:257: UserWarning: n_fft=2048 is too large for input signal of length=22\n",
      "  warnings.warn(\n"
     ]
    },
    {
     "ename": "KeyboardInterrupt",
     "evalue": "",
     "output_type": "error",
     "traceback": [
      "\u001b[1;31m---------------------------------------------------------------------------\u001b[0m",
      "\u001b[1;31mKeyboardInterrupt\u001b[0m                         Traceback (most recent call last)",
      "\u001b[1;32m<ipython-input-1-df4656a0157c>\u001b[0m in \u001b[0;36m<module>\u001b[1;34m\u001b[0m\n\u001b[0;32m     83\u001b[0m \u001b[1;33m\u001b[0m\u001b[0m\n\u001b[0;32m     84\u001b[0m \u001b[1;31m# Start the MQTT loop\u001b[0m\u001b[1;33m\u001b[0m\u001b[1;33m\u001b[0m\u001b[1;33m\u001b[0m\u001b[0m\n\u001b[1;32m---> 85\u001b[1;33m \u001b[0mclient\u001b[0m\u001b[1;33m.\u001b[0m\u001b[0mloop_forever\u001b[0m\u001b[1;33m(\u001b[0m\u001b[1;33m)\u001b[0m\u001b[1;33m\u001b[0m\u001b[1;33m\u001b[0m\u001b[0m\n\u001b[0m",
      "\u001b[1;32md:\\Data\\Anaconda\\lib\\site-packages\\paho\\mqtt\\client.py\u001b[0m in \u001b[0;36mloop_forever\u001b[1;34m(self, timeout, retry_first_connection)\u001b[0m\n\u001b[0;32m   2289\u001b[0m             \u001b[0mrc\u001b[0m \u001b[1;33m=\u001b[0m \u001b[0mMQTTErrorCode\u001b[0m\u001b[1;33m.\u001b[0m\u001b[0mMQTT_ERR_SUCCESS\u001b[0m\u001b[1;33m\u001b[0m\u001b[1;33m\u001b[0m\u001b[0m\n\u001b[0;32m   2290\u001b[0m             \u001b[1;32mwhile\u001b[0m \u001b[0mrc\u001b[0m \u001b[1;33m==\u001b[0m \u001b[0mMQTTErrorCode\u001b[0m\u001b[1;33m.\u001b[0m\u001b[0mMQTT_ERR_SUCCESS\u001b[0m\u001b[1;33m:\u001b[0m\u001b[1;33m\u001b[0m\u001b[1;33m\u001b[0m\u001b[0m\n\u001b[1;32m-> 2291\u001b[1;33m                 \u001b[0mrc\u001b[0m \u001b[1;33m=\u001b[0m \u001b[0mself\u001b[0m\u001b[1;33m.\u001b[0m\u001b[0m_loop\u001b[0m\u001b[1;33m(\u001b[0m\u001b[0mtimeout\u001b[0m\u001b[1;33m)\u001b[0m\u001b[1;33m\u001b[0m\u001b[1;33m\u001b[0m\u001b[0m\n\u001b[0m\u001b[0;32m   2292\u001b[0m                 \u001b[1;31m# We don't need to worry about locking here, because we've\u001b[0m\u001b[1;33m\u001b[0m\u001b[1;33m\u001b[0m\u001b[1;33m\u001b[0m\u001b[0m\n\u001b[0;32m   2293\u001b[0m                 \u001b[1;31m# either called loop_forever() when in single threaded mode, or\u001b[0m\u001b[1;33m\u001b[0m\u001b[1;33m\u001b[0m\u001b[1;33m\u001b[0m\u001b[0m\n",
      "\u001b[1;32md:\\Data\\Anaconda\\lib\\site-packages\\paho\\mqtt\\client.py\u001b[0m in \u001b[0;36m_loop\u001b[1;34m(self, timeout)\u001b[0m\n\u001b[0;32m   1655\u001b[0m \u001b[1;33m\u001b[0m\u001b[0m\n\u001b[0;32m   1656\u001b[0m         \u001b[1;32mtry\u001b[0m\u001b[1;33m:\u001b[0m\u001b[1;33m\u001b[0m\u001b[1;33m\u001b[0m\u001b[0m\n\u001b[1;32m-> 1657\u001b[1;33m             \u001b[0msocklist\u001b[0m \u001b[1;33m=\u001b[0m \u001b[0mselect\u001b[0m\u001b[1;33m.\u001b[0m\u001b[0mselect\u001b[0m\u001b[1;33m(\u001b[0m\u001b[0mrlist\u001b[0m\u001b[1;33m,\u001b[0m \u001b[0mwlist\u001b[0m\u001b[1;33m,\u001b[0m \u001b[1;33m[\u001b[0m\u001b[1;33m]\u001b[0m\u001b[1;33m,\u001b[0m \u001b[0mtimeout\u001b[0m\u001b[1;33m)\u001b[0m\u001b[1;33m\u001b[0m\u001b[1;33m\u001b[0m\u001b[0m\n\u001b[0m\u001b[0;32m   1658\u001b[0m         \u001b[1;32mexcept\u001b[0m \u001b[0mTypeError\u001b[0m\u001b[1;33m:\u001b[0m\u001b[1;33m\u001b[0m\u001b[1;33m\u001b[0m\u001b[0m\n\u001b[0;32m   1659\u001b[0m             \u001b[1;31m# Socket isn't correct type, in likelihood connection is lost\u001b[0m\u001b[1;33m\u001b[0m\u001b[1;33m\u001b[0m\u001b[1;33m\u001b[0m\u001b[0m\n",
      "\u001b[1;31mKeyboardInterrupt\u001b[0m: "
     ]
    }
   ],
   "source": [
    "import paho.mqtt.client as mqtt\n",
    "import os\n",
    "import pywt\n",
    "import librosa\n",
    "import numpy as np\n",
    "from sklearn.preprocessing import StandardScaler\n",
    "import joblib\n",
    "\n",
    "# Constants for feature extraction\n",
    "N_MFCC = 13\n",
    "N_FFT = 2048\n",
    "HOP_LENGTH = 512\n",
    "\n",
    "# Load the trained SVM model\n",
    "model_filename = 'suara_model_svm.pkl'\n",
    "svm_model = joblib.load(model_filename)\n",
    "\n",
    "# Function for denoising using wavelet\n",
    "def denoise_wavelet(audio, threshold=1e-6, preserve_threshold=0.05):\n",
    "    coeffs = pywt.wavedec(audio, 'db1', level=6)\n",
    "    preserved_coeffs = [coeffs[0]]\n",
    "    \n",
    "    for i in range(1, len(coeffs)):\n",
    "        thresholded_coeff = pywt.threshold(coeffs[i], threshold, mode='soft')\n",
    "        if np.sum(np.abs(thresholded_coeff)) > preserve_threshold:\n",
    "            preserved_coeffs.append(thresholded_coeff)\n",
    "        else:\n",
    "            preserved_coeffs.append(np.zeros_like(thresholded_coeff))\n",
    "\n",
    "    audio_denoised = pywt.waverec(preserved_coeffs, 'db1')\n",
    "    return audio_denoised\n",
    "\n",
    "# Function to preprocess audio and extract features\n",
    "def preprocess_audio(audio_data, n_mfcc=N_MFCC, n_fft=N_FFT, hop_length=HOP_LENGTH):\n",
    "\n",
    "    # Denoising using wavelet\n",
    "    audio = librosa.util.normalize(audio_data)\n",
    "    audio_denoised = denoise_wavelet(audio, preserve_threshold=0.05)\n",
    "\n",
    "    # Extracting features\n",
    "    mfccs = librosa.feature.mfcc(y=audio_denoised, sr=16000, n_mfcc=n_mfcc, n_fft=n_fft, hop_length=hop_length)\n",
    "    rmse = librosa.feature.rms(y=audio_denoised, frame_length=n_fft, hop_length=hop_length)\n",
    "    spectral_centroid = librosa.feature.spectral_centroid(y=audio_denoised, sr=16000, n_fft=n_fft, hop_length=hop_length)\n",
    "\n",
    "    # Calculate mean values\n",
    "    mean_mfcc = np.mean(mfccs, axis=1)\n",
    "    mean_rmse = np.mean(rmse)\n",
    "    mean_centroid = np.mean(spectral_centroid)\n",
    "\n",
    "    return np.concatenate([mean_mfcc, [mean_rmse], [mean_centroid]]).reshape(1, -1)\n",
    "\n",
    "# Callback function for when the client receives a CONNACK response from the server.\n",
    "def on_connect(client, userdata, flags, rc):\n",
    "    print(f\"Connected with result code {rc}\")\n",
    "    # Subscribe to the topic \"topic/2/value\"\n",
    "    client.subscribe(\"topic/2/value\")\n",
    "\n",
    "# Callback function for when the client receives a message from the server.\n",
    "def on_message(client, userdata, msg):\n",
    "    print(f\"Received message: {msg.payload}\")\n",
    "    # Convert the received array string to integer array\n",
    "    received_array = np.array(msg.payload.decode(\"utf-8\").split(','), dtype=int)\n",
    "    # Preprocess the received audio data\n",
    "    sound_features = preprocess_audio(received_array)\n",
    "    # Make prediction using the SVM model\n",
    "    prediction = svm_model.predict(sound_features)\n",
    "    # Display the classification result\n",
    "    print('Sound Classification:', \"Scream\" if prediction[0] == 1 else \"Conversation\")\n",
    "    # Publish the processed data to the topic \"topic/1/value\"\n",
    "    client.publish(\"topic/1/value\", str(prediction[0]))\n",
    "\n",
    "# Set MQTT broker address\n",
    "broker_address = \"192.168.43.243\"  # Ganti dengan alamat IP broker MQTT EMQX\n",
    "\n",
    "# Create a MQTT client instance\n",
    "client = mqtt.Client(mqtt.CallbackAPIVersion.VERSION1)\n",
    "# Set the callback functions\n",
    "client.on_connect = on_connect\n",
    "client.on_message = on_message\n",
    "\n",
    "# Connect to the MQTT broker\n",
    "client.connect(broker_address, 1883, 60)\n",
    "\n",
    "# Start the MQTT loop\n",
    "client.loop_forever()\n"
   ]
  },
  {
   "cell_type": "code",
   "execution_count": 2,
   "metadata": {},
   "outputs": [
    {
     "name": "stderr",
     "output_type": "stream",
     "text": [
      "<ipython-input-2-211ec4b6e31a>:77: DeprecationWarning: Callback API version 1 is deprecated, update to latest version\n",
      "  client = mqtt.Client(mqtt.CallbackAPIVersion.VERSION1)\n"
     ]
    },
    {
     "name": "stdout",
     "output_type": "stream",
     "text": [
      "Connected with result code 0\n",
      "Received message: b'495,360,447,512,406,410,362,428,447,449,446,446,447,446,446,446,446,447,446,446,2'\n",
      "Sound Classification: Conversation\n"
     ]
    },
    {
     "name": "stderr",
     "output_type": "stream",
     "text": [
      "d:\\Data\\Anaconda\\lib\\site-packages\\pywt\\_multilevel.py:43: UserWarning: Level value of 6 is too high: all coefficients will experience boundary effects.\n",
      "  warnings.warn(\n",
      "d:\\Data\\Anaconda\\lib\\site-packages\\librosa\\core\\spectrum.py:257: UserWarning: n_fft=2048 is too large for input signal of length=22\n",
      "  warnings.warn(\n"
     ]
    },
    {
     "name": "stdout",
     "output_type": "stream",
     "text": [
      "Received message: b'616,459,541,357,447,440,449,446,447,447,447,447,446,446,446,446,436,446,446,446,2'\n",
      "Sound Classification: Conversation\n"
     ]
    },
    {
     "name": "stderr",
     "output_type": "stream",
     "text": [
      "d:\\Data\\Anaconda\\lib\\site-packages\\pywt\\_multilevel.py:43: UserWarning: Level value of 6 is too high: all coefficients will experience boundary effects.\n",
      "  warnings.warn(\n",
      "d:\\Data\\Anaconda\\lib\\site-packages\\librosa\\core\\spectrum.py:257: UserWarning: n_fft=2048 is too large for input signal of length=22\n",
      "  warnings.warn(\n"
     ]
    },
    {
     "name": "stdout",
     "output_type": "stream",
     "text": [
      "Received message: b'614,446,489,320,466,493,401,535,376,477,466,424,417,444,448,448,447,446,446,446,2'\n",
      "Sound Classification: Conversation\n"
     ]
    },
    {
     "name": "stderr",
     "output_type": "stream",
     "text": [
      "d:\\Data\\Anaconda\\lib\\site-packages\\pywt\\_multilevel.py:43: UserWarning: Level value of 6 is too high: all coefficients will experience boundary effects.\n",
      "  warnings.warn(\n",
      "d:\\Data\\Anaconda\\lib\\site-packages\\librosa\\core\\spectrum.py:257: UserWarning: n_fft=2048 is too large for input signal of length=22\n",
      "  warnings.warn(\n"
     ]
    },
    {
     "name": "stdout",
     "output_type": "stream",
     "text": [
      "Received message: b'499,511,469,465,436,485,415,365,349,468,422,434,428,413,444,438,449,445,447,446,2'\n",
      "Sound Classification: Conversation\n"
     ]
    },
    {
     "name": "stderr",
     "output_type": "stream",
     "text": [
      "d:\\Data\\Anaconda\\lib\\site-packages\\pywt\\_multilevel.py:43: UserWarning: Level value of 6 is too high: all coefficients will experience boundary effects.\n",
      "  warnings.warn(\n",
      "d:\\Data\\Anaconda\\lib\\site-packages\\librosa\\core\\spectrum.py:257: UserWarning: n_fft=2048 is too large for input signal of length=22\n",
      "  warnings.warn(\n"
     ]
    },
    {
     "name": "stdout",
     "output_type": "stream",
     "text": [
      "Received message: b'500,348,703,411,492,375,486,429,384,368,447,440,445,442,447,445,445,445,445,442,2'\n",
      "Sound Classification: Conversation\n"
     ]
    },
    {
     "name": "stderr",
     "output_type": "stream",
     "text": [
      "d:\\Data\\Anaconda\\lib\\site-packages\\pywt\\_multilevel.py:43: UserWarning: Level value of 6 is too high: all coefficients will experience boundary effects.\n",
      "  warnings.warn(\n",
      "d:\\Data\\Anaconda\\lib\\site-packages\\librosa\\core\\spectrum.py:257: UserWarning: n_fft=2048 is too large for input signal of length=22\n",
      "  warnings.warn(\n"
     ]
    },
    {
     "ename": "KeyboardInterrupt",
     "evalue": "",
     "output_type": "error",
     "traceback": [
      "\u001b[1;31m---------------------------------------------------------------------------\u001b[0m",
      "\u001b[1;31mKeyboardInterrupt\u001b[0m                         Traceback (most recent call last)",
      "\u001b[1;32m<ipython-input-2-211ec4b6e31a>\u001b[0m in \u001b[0;36m<module>\u001b[1;34m\u001b[0m\n\u001b[0;32m     84\u001b[0m \u001b[1;33m\u001b[0m\u001b[0m\n\u001b[0;32m     85\u001b[0m \u001b[1;31m# Start the MQTT loop\u001b[0m\u001b[1;33m\u001b[0m\u001b[1;33m\u001b[0m\u001b[1;33m\u001b[0m\u001b[0m\n\u001b[1;32m---> 86\u001b[1;33m \u001b[0mclient\u001b[0m\u001b[1;33m.\u001b[0m\u001b[0mloop_forever\u001b[0m\u001b[1;33m(\u001b[0m\u001b[1;33m)\u001b[0m\u001b[1;33m\u001b[0m\u001b[1;33m\u001b[0m\u001b[0m\n\u001b[0m",
      "\u001b[1;32md:\\Data\\Anaconda\\lib\\site-packages\\paho\\mqtt\\client.py\u001b[0m in \u001b[0;36mloop_forever\u001b[1;34m(self, timeout, retry_first_connection)\u001b[0m\n\u001b[0;32m   2289\u001b[0m             \u001b[0mrc\u001b[0m \u001b[1;33m=\u001b[0m \u001b[0mMQTTErrorCode\u001b[0m\u001b[1;33m.\u001b[0m\u001b[0mMQTT_ERR_SUCCESS\u001b[0m\u001b[1;33m\u001b[0m\u001b[1;33m\u001b[0m\u001b[0m\n\u001b[0;32m   2290\u001b[0m             \u001b[1;32mwhile\u001b[0m \u001b[0mrc\u001b[0m \u001b[1;33m==\u001b[0m \u001b[0mMQTTErrorCode\u001b[0m\u001b[1;33m.\u001b[0m\u001b[0mMQTT_ERR_SUCCESS\u001b[0m\u001b[1;33m:\u001b[0m\u001b[1;33m\u001b[0m\u001b[1;33m\u001b[0m\u001b[0m\n\u001b[1;32m-> 2291\u001b[1;33m                 \u001b[0mrc\u001b[0m \u001b[1;33m=\u001b[0m \u001b[0mself\u001b[0m\u001b[1;33m.\u001b[0m\u001b[0m_loop\u001b[0m\u001b[1;33m(\u001b[0m\u001b[0mtimeout\u001b[0m\u001b[1;33m)\u001b[0m\u001b[1;33m\u001b[0m\u001b[1;33m\u001b[0m\u001b[0m\n\u001b[0m\u001b[0;32m   2292\u001b[0m                 \u001b[1;31m# We don't need to worry about locking here, because we've\u001b[0m\u001b[1;33m\u001b[0m\u001b[1;33m\u001b[0m\u001b[1;33m\u001b[0m\u001b[0m\n\u001b[0;32m   2293\u001b[0m                 \u001b[1;31m# either called loop_forever() when in single threaded mode, or\u001b[0m\u001b[1;33m\u001b[0m\u001b[1;33m\u001b[0m\u001b[1;33m\u001b[0m\u001b[0m\n",
      "\u001b[1;32md:\\Data\\Anaconda\\lib\\site-packages\\paho\\mqtt\\client.py\u001b[0m in \u001b[0;36m_loop\u001b[1;34m(self, timeout)\u001b[0m\n\u001b[0;32m   1655\u001b[0m \u001b[1;33m\u001b[0m\u001b[0m\n\u001b[0;32m   1656\u001b[0m         \u001b[1;32mtry\u001b[0m\u001b[1;33m:\u001b[0m\u001b[1;33m\u001b[0m\u001b[1;33m\u001b[0m\u001b[0m\n\u001b[1;32m-> 1657\u001b[1;33m             \u001b[0msocklist\u001b[0m \u001b[1;33m=\u001b[0m \u001b[0mselect\u001b[0m\u001b[1;33m.\u001b[0m\u001b[0mselect\u001b[0m\u001b[1;33m(\u001b[0m\u001b[0mrlist\u001b[0m\u001b[1;33m,\u001b[0m \u001b[0mwlist\u001b[0m\u001b[1;33m,\u001b[0m \u001b[1;33m[\u001b[0m\u001b[1;33m]\u001b[0m\u001b[1;33m,\u001b[0m \u001b[0mtimeout\u001b[0m\u001b[1;33m)\u001b[0m\u001b[1;33m\u001b[0m\u001b[1;33m\u001b[0m\u001b[0m\n\u001b[0m\u001b[0;32m   1658\u001b[0m         \u001b[1;32mexcept\u001b[0m \u001b[0mTypeError\u001b[0m\u001b[1;33m:\u001b[0m\u001b[1;33m\u001b[0m\u001b[1;33m\u001b[0m\u001b[0m\n\u001b[0;32m   1659\u001b[0m             \u001b[1;31m# Socket isn't correct type, in likelihood connection is lost\u001b[0m\u001b[1;33m\u001b[0m\u001b[1;33m\u001b[0m\u001b[1;33m\u001b[0m\u001b[0m\n",
      "\u001b[1;31mKeyboardInterrupt\u001b[0m: "
     ]
    }
   ],
   "source": [
    "import os\n",
    "import numpy as np\n",
    "import librosa\n",
    "import pywt\n",
    "import joblib\n",
    "import paho.mqtt.client as mqtt\n",
    "from sklearn.preprocessing import StandardScaler\n",
    "\n",
    "# Constants for feature extraction\n",
    "N_MFCC = 13\n",
    "N_FFT = 2048\n",
    "HOP_LENGTH = 512\n",
    "\n",
    "# Load the trained SVM model\n",
    "model_filename = 'suara_model_svm.pkl'\n",
    "svm_model = joblib.load(model_filename)\n",
    "\n",
    "# Function for denoising using wavelet\n",
    "def denoise_wavelet(audio, threshold=1e-6, preserve_threshold=0.05):\n",
    "    coeffs = pywt.wavedec(audio, 'db1', level=6)\n",
    "    preserved_coeffs = [coeffs[0]]\n",
    "    \n",
    "    for i in range(1, len(coeffs)):\n",
    "        thresholded_coeff = pywt.threshold(coeffs[i], threshold, mode='soft')\n",
    "        if np.sum(np.abs(thresholded_coeff)) > preserve_threshold:\n",
    "            preserved_coeffs.append(thresholded_coeff)\n",
    "        else:\n",
    "            preserved_coeffs.append(np.zeros_like(thresholded_coeff))\n",
    "\n",
    "    audio_denoised = pywt.waverec(preserved_coeffs, 'db1')\n",
    "    return audio_denoised\n",
    "\n",
    "# Function to preprocess audio and extract features\n",
    "def preprocess_audio(audio_data, sr=16000, n_mfcc=N_MFCC, n_fft=N_FFT, hop_length=HOP_LENGTH):\n",
    "    # Normalize sensor data to match the range of audio data\n",
    "    audio = 2 * (audio_data - np.min(audio_data)) / (np.max(audio_data) - np.min(audio_data)) - 1\n",
    "\n",
    "    # Denoising using wavelet\n",
    "    audio_denoised = denoise_wavelet(audio, preserve_threshold=0.05)\n",
    "\n",
    "    # Extracting features\n",
    "    mfccs = librosa.feature.mfcc(y=audio_denoised, sr=sr, n_mfcc=n_mfcc, n_fft=n_fft, hop_length=hop_length)\n",
    "    rmse = librosa.feature.rms(y=audio_denoised, frame_length=n_fft, hop_length=hop_length)\n",
    "    spectral_centroid = librosa.feature.spectral_centroid(y=audio_denoised, sr=sr, n_fft=n_fft, hop_length=hop_length)\n",
    "\n",
    "    # Calculate mean values\n",
    "    mean_mfcc = np.mean(mfccs, axis=1)\n",
    "    mean_rmse = np.mean(rmse)\n",
    "    mean_centroid = np.mean(spectral_centroid)\n",
    "\n",
    "    return np.concatenate([mean_mfcc, [mean_rmse], [mean_centroid]]).reshape(1, -1)\n",
    "\n",
    "# Callback function for when the client receives a CONNACK response from the server.\n",
    "def on_connect(client, userdata, flags, rc):\n",
    "    print(f\"Connected with result code {rc}\")\n",
    "    # Subscribe to the topic \"topic/2/value\"\n",
    "    client.subscribe(\"topic/2/value\")\n",
    "\n",
    "# Callback function for when the client receives a message from the server.\n",
    "def on_message(client, userdata, msg):\n",
    "    print(f\"Received message: {msg.payload}\")\n",
    "    # Convert the received array string to integer array\n",
    "    received_array = np.array(msg.payload.decode(\"utf-8\").split(','), dtype=int)\n",
    "    # Preprocess the received audio data\n",
    "    sound_features = preprocess_audio(received_array)\n",
    "    # Make prediction using the SVM model\n",
    "    prediction = svm_model.predict(sound_features)\n",
    "    # Display the classification result\n",
    "    print('Sound Classification:', \"Scream\" if prediction[0] == 1 else \"Conversation\")\n",
    "    # Publish the processed data to the topic \"topic/1/value\"\n",
    "    client.publish(\"topic/1/value\", str(prediction[0]))\n",
    "\n",
    "# Set MQTT broker address\n",
    "broker_address = \"192.168.43.243\"  # Ganti dengan alamat IP broker MQTT EMQX\n",
    "\n",
    "# Create a MQTT client instance\n",
    "client = mqtt.Client(mqtt.CallbackAPIVersion.VERSION1)\n",
    "# Set the callback functions\n",
    "client.on_connect = on_connect\n",
    "client.on_message = on_message\n",
    "\n",
    "# Connect to the MQTT broker\n",
    "client.connect(broker_address, 1883, 60)\n",
    "\n",
    "# Start the MQTT loop\n",
    "client.loop_forever()\n"
   ]
  }
 ],
 "metadata": {
  "kernelspec": {
   "display_name": "base",
   "language": "python",
   "name": "python3"
  },
  "language_info": {
   "codemirror_mode": {
    "name": "ipython",
    "version": 3
   },
   "file_extension": ".py",
   "mimetype": "text/x-python",
   "name": "python",
   "nbconvert_exporter": "python",
   "pygments_lexer": "ipython3",
   "version": "3.8.8"
  }
 },
 "nbformat": 4,
 "nbformat_minor": 2
}
